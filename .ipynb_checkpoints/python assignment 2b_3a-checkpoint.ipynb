{
 "cells": [
  {
   "cell_type": "code",
   "execution_count": 1,
   "id": "0e7e03ed",
   "metadata": {},
   "outputs": [
    {
     "name": "stdout",
     "output_type": "stream",
     "text": [
      "enter an integer6\n",
      "enter another integer10\n",
      "GCD is: 2\n"
     ]
    }
   ],
   "source": [
    "a=float(input(\"enter an integer\"))\n",
    "b=float(input(\"enter another integer\"))\n",
    "i=1\n",
    "while (i<=a and i<=b):\n",
    "    if (a%i==0 and b%i==0):\n",
    "        gcd=i\n",
    "    i+=1\n",
    "print(\"GCD is:\",gcd)"
   ]
  },
  {
   "cell_type": "code",
   "execution_count": 2,
   "id": "2edbd63f",
   "metadata": {},
   "outputs": [
    {
     "name": "stdout",
     "output_type": "stream",
     "text": [
      "*\n",
      "**\n",
      "***\n",
      "****\n"
     ]
    }
   ],
   "source": [
    "i=1\n",
    "while i<=4:\n",
    "    print('*'*i)\n",
    "    i+=1"
   ]
  },
  {
   "cell_type": "code",
   "execution_count": 12,
   "id": "40dba789",
   "metadata": {},
   "outputs": [
    {
     "name": "stdout",
     "output_type": "stream",
     "text": [
      "   *   \n",
      "  ***  \n",
      " ***** \n",
      "  ***  \n",
      "   *   \n"
     ]
    }
   ],
   "source": [
    "i=0\n",
    "while i<3:\n",
    "    print(' '*(3-i)+\"*\"*(2*i+1)+\" \"*(3-i))\n",
    "    i+=1\n",
    "i=1\n",
    "while i>=0:\n",
    "    print(\" \"*(3-i)+\"*\"*(2*i+1)+\" \"*(3-i))\n",
    "    i-=1"
   ]
  },
  {
   "cell_type": "code",
   "execution_count": 13,
   "id": "25df5cb5",
   "metadata": {},
   "outputs": [
    {
     "name": "stdout",
     "output_type": "stream",
     "text": [
      "enter a number5\n",
      "factorial is: 120\n"
     ]
    }
   ],
   "source": [
    "n=int(input(\"enter a number\"))\n",
    "factorial=1\n",
    "for i in range(1,n+1):\n",
    "    factorial*=i\n",
    "print(\"factorial is:\",factorial)\n",
    "    "
   ]
  },
  {
   "cell_type": "code",
   "execution_count": 18,
   "id": "c7dcab17",
   "metadata": {},
   "outputs": [
    {
     "name": "stdout",
     "output_type": "stream",
     "text": [
      "2 3 5 7 11 13 17 19 23 29 31 37 41 43 47 53 59 61 67 71 73 79 83 89 97 "
     ]
    }
   ],
   "source": [
    "for i in range(2,100):\n",
    "    for j in range(2,101):\n",
    "        if i%j==0:\n",
    "            break\n",
    "    if i==j:\n",
    "        print(i,end=\" \")\n",
    "    "
   ]
  },
  {
   "cell_type": "code",
   "execution_count": 19,
   "id": "f481f576",
   "metadata": {},
   "outputs": [
    {
     "name": "stdout",
     "output_type": "stream",
     "text": [
      "enter an integer5\n",
      "The given no. is odd\n"
     ]
    }
   ],
   "source": [
    "def even(n):\n",
    "    if n%2==0:\n",
    "        print('The given no. is even')\n",
    "    else:\n",
    "        print('The given no. is odd')\n",
    "n=int(input('enter an integer'))\n",
    "even(n)\n"
   ]
  },
  {
   "cell_type": "code",
   "execution_count": 20,
   "id": "6981d3f8",
   "metadata": {},
   "outputs": [
    {
     "name": "stdout",
     "output_type": "stream",
     "text": [
      "enter a no3\n",
      "enter another no5\n",
      "8.0\n"
     ]
    }
   ],
   "source": [
    "def sum(a,b):\n",
    "    c=a+b\n",
    "    return c\n",
    "a=float(input('enter a no'))\n",
    "b=float(input('enter another no'))\n",
    "print(sum(a,b))"
   ]
  },
  {
   "cell_type": "code",
   "execution_count": 21,
   "id": "d536da9b",
   "metadata": {},
   "outputs": [
    {
     "name": "stdout",
     "output_type": "stream",
     "text": [
      "enter 1st no10\n",
      "enter 2nd no5\n",
      "Divisible\n"
     ]
    }
   ],
   "source": [
    "def divisible(a,b):\n",
    "    if a%b==0:\n",
    "        print('Divisible')\n",
    "    else:\n",
    "        print('Not Divisible')\n",
    "a=float(input('enter 1st no'))\n",
    "b=float(input('enter 2nd no'))\n",
    "divisible(a,b)"
   ]
  },
  {
   "cell_type": "code",
   "execution_count": 27,
   "id": "47853197",
   "metadata": {},
   "outputs": [
    {
     "name": "stdout",
     "output_type": "stream",
     "text": [
      "reversed list; [3, 4, 5, 2]\n"
     ]
    }
   ],
   "source": [
    "def reverse_lst(L):\n",
    "    n=len(L)\n",
    "    S=list(L)\n",
    "    for i in range(0,n):\n",
    "        L[n-1-i]=S[i]\n",
    "    return L\n",
    "L=[2,5,4,3]\n",
    "print('reversed list;',reverse_lst(L))"
   ]
  },
  {
   "cell_type": "code",
   "execution_count": 30,
   "id": "e9a452b6",
   "metadata": {},
   "outputs": [
    {
     "name": "stdout",
     "output_type": "stream",
     "text": [
      "Sum of series 0     5.0\n",
      "1     9.0\n",
      "2     5.0\n",
      "3    13.0\n",
      "4     NaN\n",
      "dtype: float64\n",
      "Difference of series 0   -1.0\n",
      "1   -3.0\n",
      "2    3.0\n",
      "3   -3.0\n",
      "4    NaN\n",
      "dtype: float64\n",
      "Multiply of series 0     6.0\n",
      "1    18.0\n",
      "2     4.0\n",
      "3    40.0\n",
      "4     NaN\n",
      "dtype: float64\n",
      "Division of series 0    0.666667\n",
      "1    0.500000\n",
      "2    4.000000\n",
      "3    0.625000\n",
      "4         NaN\n",
      "dtype: float64\n"
     ]
    }
   ],
   "source": [
    "import pandas as pd\n",
    "ds1=pd.Series([2,3,4,5,40])\n",
    "ds2=pd.Series([3,6,1,8])\n",
    "print('Sum of series',ds1+ds2)\n",
    "print('Difference of series',ds1-ds2)\n",
    "print('Multiply of series',ds1*ds2)\n",
    "print('Division of series',ds1/ds2)\n",
    "\n"
   ]
  },
  {
   "cell_type": "code",
   "execution_count": 34,
   "id": "86d93d26",
   "metadata": {},
   "outputs": [
    {
     "name": "stdout",
     "output_type": "stream",
     "text": [
      "Both series are equal 0    False\n",
      "1    False\n",
      "2    False\n",
      "3    False\n",
      "4    False\n",
      "dtype: bool\n",
      "Series1 is greater than Series2 0    False\n",
      "1    False\n",
      "2     True\n",
      "3    False\n",
      "4     True\n",
      "dtype: bool\n",
      "Series2 is greater than Series1 0     True\n",
      "1     True\n",
      "2    False\n",
      "3     True\n",
      "4    False\n",
      "dtype: bool\n"
     ]
    }
   ],
   "source": [
    "import pandas as pd\n",
    "ds1=pd.Series([2,3,4,5,40])\n",
    "ds2=pd.Series([3,6,1,8,10])\n",
    "print(\"Both series are equal\", ds1==ds2)\n",
    "print(\"Series1 is greater than Series2\", ds1>ds2)\n",
    "print(\"Series2 is greater than Series1\", ds2>ds1)"
   ]
  },
  {
   "cell_type": "code",
   "execution_count": null,
   "id": "5a241347",
   "metadata": {},
   "outputs": [],
   "source": []
  }
 ],
 "metadata": {
  "kernelspec": {
   "display_name": "Python 3 (ipykernel)",
   "language": "python",
   "name": "python3"
  },
  "language_info": {
   "codemirror_mode": {
    "name": "ipython",
    "version": 3
   },
   "file_extension": ".py",
   "mimetype": "text/x-python",
   "name": "python",
   "nbconvert_exporter": "python",
   "pygments_lexer": "ipython3",
   "version": "3.11.5"
  }
 },
 "nbformat": 4,
 "nbformat_minor": 5
}
