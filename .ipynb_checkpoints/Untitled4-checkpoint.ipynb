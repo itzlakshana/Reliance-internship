{
 "cells": [
  {
   "cell_type": "code",
   "execution_count": 1,
   "id": "0ee2df13",
   "metadata": {},
   "outputs": [],
   "source": [
    "import numpy as np\n",
    "import matplotlib.pyplot as plt"
   ]
  },
  {
   "cell_type": "code",
   "execution_count": 3,
   "id": "6305eed8",
   "metadata": {},
   "outputs": [
    {
     "ename": "IndentationError",
     "evalue": "unindent does not match any outer indentation level (<tokenize>, line 10)",
     "output_type": "error",
     "traceback": [
      "\u001b[1;36m  File \u001b[1;32m<tokenize>:10\u001b[1;36m\u001b[0m\n\u001b[1;33m    return (b_0, b_1)\u001b[0m\n\u001b[1;37m    ^\u001b[0m\n\u001b[1;31mIndentationError\u001b[0m\u001b[1;31m:\u001b[0m unindent does not match any outer indentation level\n"
     ]
    }
   ],
   "source": [
    "def estimate_coef(x,y):\n",
    "    n=np.size(x)\n",
    "    m_x=np.mean(x)\n",
    "    m_y=np.mean(y)\n",
    "    SS_xy=np.sum(y*x)-n*m_y*m_x\n",
    "    SS_xx=np.sum(x*x)-n*m_x*m_x\n",
    "    b_1=SS_xy/SS_xx\n",
    "     b_0 = m_y - b_1*m_x\n",
    " \n",
    "  return (b_0, b_1)\n",
    "    "
   ]
  },
  {
   "cell_type": "code",
   "execution_count": null,
   "id": "f32ead3f",
   "metadata": {},
   "outputs": [],
   "source": [
    "def estimate_coef(x,y):\n",
    "    n=np.size(x)\n",
    "    m_x=np.mean(x)\n",
    "    m_y=np.mean(y)\n",
    "    SS_xy=np.sum(y*x)-n*m_y*m_x\n",
    "    SS_xx=np.sum(x*x)-n*m_x*m_x\n",
    "    b_1=SS_xy/SS_xx\n",
    "    b_0 = m_y - b_1*m_x\n",
    " \n",
    "  return (b_0, b_1)\n",
    "    "
   ]
  }
 ],
 "metadata": {
  "kernelspec": {
   "display_name": "Python 3 (ipykernel)",
   "language": "python",
   "name": "python3"
  },
  "language_info": {
   "codemirror_mode": {
    "name": "ipython",
    "version": 3
   },
   "file_extension": ".py",
   "mimetype": "text/x-python",
   "name": "python",
   "nbconvert_exporter": "python",
   "pygments_lexer": "ipython3",
   "version": "3.11.5"
  }
 },
 "nbformat": 4,
 "nbformat_minor": 5
}
